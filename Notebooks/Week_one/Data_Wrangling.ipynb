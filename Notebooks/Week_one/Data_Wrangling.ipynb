{
 "cells": [
  {
   "cell_type": "markdown",
   "id": "9f9a16f5",
   "metadata": {},
   "source": [
    "# Data Wrangling  (Data exploration)\n",
    "\n",
    "- Data Wrangling is the process of cleaning, transforming  and structuring raw data into a usuable format , used for analysis and modeling  \n",
    "\n",
    "- 1 - data cleaning \n",
    "- 2 - data transforming \n",
    "- 3 - data structuring "
   ]
  },
  {
   "cell_type": "markdown",
   "id": "053f5ed3",
   "metadata": {},
   "source": [
    "# Why do we need to wrangle our data?\n",
    "- Real-world data is very messy, inconsistent and incomplete\n",
    "- more then 70% of the time in DS is actually spent on preparing the data\n",
    "- Good wrangled dataset makes your models or insights accurate "
   ]
  },
  {
   "cell_type": "markdown",
   "id": "21df994b",
   "metadata": {},
   "source": []
  },
  {
   "cell_type": "code",
   "execution_count": null,
   "id": "afa69d7a",
   "metadata": {},
   "outputs": [],
   "source": []
  },
  {
   "cell_type": "markdown",
   "id": "aa1d7ed7",
   "metadata": {},
   "source": [
    "# step 1- Data cleaning "
   ]
  },
  {
   "cell_type": "markdown",
   "id": "401a6bfd",
   "metadata": {},
   "source": [
    "#### Identify Isssues in our dataset before Wrangling \n",
    "\n",
    "- 1 - Missing values\n",
    "- 2 - duplicates datasets\n",
    "- 3 - Categorial data & numeric data"
   ]
  },
  {
   "cell_type": "markdown",
   "id": "f19040c2",
   "metadata": {},
   "source": [
    "##### step 1a - Missing Values "
   ]
  },
  {
   "cell_type": "code",
   "execution_count": 23,
   "id": "74d70083",
   "metadata": {},
   "outputs": [
    {
     "data": {
      "text/plain": [
       "patient_id            0\n",
       "age                   0\n",
       "gender                0\n",
       "bmi                   0\n",
       "smoker                0\n",
       "chronic_cond       3075\n",
       "injury_type           0\n",
       "signup_date           0\n",
       "referral_source       0\n",
       "consent               0\n",
       "clinic_id             0\n",
       "insurance_type        0\n",
       "dtype: int64"
      ]
     },
     "execution_count": 23,
     "metadata": {},
     "output_type": "execute_result"
    }
   ],
   "source": [
    "#import pandas \n",
    "import pandas as pd \n",
    "\n",
    "\n",
    "#identify missing values \n",
    "df = pd.read_csv(\"C:/Users/Muham/Downloads/AMDARI/Princess_j_Mentorship/patients.csv\")\n",
    "df.isnull().sum()\n",
    "\n"
   ]
  },
  {
   "cell_type": "code",
   "execution_count": null,
   "id": "1b6cf8bb",
   "metadata": {},
   "outputs": [],
   "source": [
    "# Remove the rows with missing values (for all dataset)\n",
    "\n",
    "df_clean = df.dropna()"
   ]
  },
  {
   "cell_type": "markdown",
   "id": "d82111ca",
   "metadata": {},
   "source": [
    "import pandas"
   ]
  },
  {
   "cell_type": "code",
   "execution_count": null,
   "id": "393122ed",
   "metadata": {},
   "outputs": [
    {
     "data": {
      "text/plain": [
       "patient_id         0\n",
       "age                0\n",
       "gender             0\n",
       "bmi                0\n",
       "smoker             0\n",
       "chronic_cond       0\n",
       "injury_type        0\n",
       "signup_date        0\n",
       "referral_source    0\n",
       "consent            0\n",
       "clinic_id          0\n",
       "insurance_type     0\n",
       "dtype: int64"
      ]
     },
     "execution_count": 9,
     "metadata": {},
     "output_type": "execute_result"
    }
   ],
   "source": [
    "#check\n",
    "\n",
    "df_clean.head()\n",
    "df_clean.isnull().sum()"
   ]
  },
  {
   "cell_type": "code",
   "execution_count": 10,
   "id": "bd4c44fd",
   "metadata": {},
   "outputs": [],
   "source": [
    "# remove rows only if its in a specific  (chronic_cond)\n",
    "\n",
    "df_clean = df.dropna(subset=['chronic_cond'])"
   ]
  },
  {
   "cell_type": "code",
   "execution_count": 11,
   "id": "affed730",
   "metadata": {},
   "outputs": [
    {
     "data": {
      "text/plain": [
       "patient_id         0\n",
       "age                0\n",
       "gender             0\n",
       "bmi                0\n",
       "smoker             0\n",
       "chronic_cond       0\n",
       "injury_type        0\n",
       "signup_date        0\n",
       "referral_source    0\n",
       "consent            0\n",
       "clinic_id          0\n",
       "insurance_type     0\n",
       "dtype: int64"
      ]
     },
     "execution_count": 11,
     "metadata": {},
     "output_type": "execute_result"
    }
   ],
   "source": [
    "df_clean.isnull().sum()"
   ]
  },
  {
   "cell_type": "code",
   "execution_count": null,
   "id": "630d29a9",
   "metadata": {},
   "outputs": [],
   "source": [
    "# filling in missing values \n",
    "# chronic_cond \n",
    "df['chronic_cond'] = df['chronic_cond'].fillna(df['chronic_cond'].mode()[0])"
   ]
  },
  {
   "cell_type": "code",
   "execution_count": 19,
   "id": "18f5e33f",
   "metadata": {},
   "outputs": [
    {
     "data": {
      "text/plain": [
       "patient_id         0\n",
       "age                0\n",
       "gender             0\n",
       "bmi                0\n",
       "smoker             0\n",
       "chronic_cond       0\n",
       "injury_type        0\n",
       "signup_date        0\n",
       "referral_source    0\n",
       "consent            0\n",
       "clinic_id          0\n",
       "insurance_type     0\n",
       "dtype: int64"
      ]
     },
     "execution_count": 19,
     "metadata": {},
     "output_type": "execute_result"
    }
   ],
   "source": [
    "df['chronic_cond']\n",
    "\n",
    "df.isnull().sum()"
   ]
  },
  {
   "cell_type": "markdown",
   "id": "b4da6154",
   "metadata": {},
   "source": [
    "# Interview Questions I\n",
    "\n",
    "- 1 - how do you identify missing values in pandas\n",
    "- 2 - whats are the strategies to handle missing values\n",
    "- 3 - when would you choose to drop vs impute missingg data\n",
    "\n",
    "\n",
    "# Answers \n",
    "\n",
    "- 1 - i first use isnull().sum() to have a summary of the missing values\n",
    "- 2 - if we have <=40% of the misisng values --- we can safely drop the missing values \n",
    "  - if the we have >=40% of the missing values --- we imput the missng point with mean, median or mode\n",
    "  - if the columns has numeric values --- we use the mean or the median \n",
    "  - if the columns has categorical values (non-nueri values) - we impute with the mode (frequency of the data points)"
   ]
  },
  {
   "cell_type": "markdown",
   "id": "4b506900",
   "metadata": {},
   "source": [
    "#### step 1b - duplicates Values "
   ]
  },
  {
   "cell_type": "code",
   "execution_count": 26,
   "id": "8d961666",
   "metadata": {},
   "outputs": [
    {
     "data": {
      "text/plain": [
       "np.int64(7)"
      ]
     },
     "execution_count": 26,
     "metadata": {},
     "output_type": "execute_result"
    }
   ],
   "source": [
    "# Identify these duplicates\n",
    "df.duplicated().sum()"
   ]
  },
  {
   "cell_type": "code",
   "execution_count": 27,
   "id": "fcfda824",
   "metadata": {},
   "outputs": [],
   "source": [
    "# Remove these duplciates \n",
    "df_clean_dup = df.drop_duplicates()"
   ]
  },
  {
   "cell_type": "code",
   "execution_count": 29,
   "id": "ff0f04c3",
   "metadata": {},
   "outputs": [
    {
     "data": {
      "text/plain": [
       "np.int64(0)"
      ]
     },
     "execution_count": 29,
     "metadata": {},
     "output_type": "execute_result"
    }
   ],
   "source": [
    "df_clean_dup.duplicated().sum()"
   ]
  },
  {
   "cell_type": "code",
   "execution_count": null,
   "id": "d1759d64",
   "metadata": {},
   "outputs": [],
   "source": []
  },
  {
   "cell_type": "markdown",
   "id": "b39f518b",
   "metadata": {},
   "source": [
    "# Interview Questions II\n",
    "\n",
    "- 1- how do you remove duplicates from your rows in pandas \n",
    "- 2 - Whats the difference between duplicated() and drop_duplicated()\n",
    "\n",
    "# Answers \n",
    "\n",
    "- 1 - to remove deuplicates you first need to identify the duplicates by using \n",
    "    - duplicated() --- method\n",
    "    - drop_duplicated() --- method\n",
    "\n",
    "- 2 - duplicated() actually return a boolean output indicating wheather a rows is suplicate or not (true or false)\n",
    "    - drop_duplicated() actually removes all duplicates from the dataframe\n"
   ]
  },
  {
   "cell_type": "markdown",
   "id": "bd3b3937",
   "metadata": {},
   "source": []
  }
 ],
 "metadata": {
  "kernelspec": {
   "display_name": "base",
   "language": "python",
   "name": "python3"
  },
  "language_info": {
   "codemirror_mode": {
    "name": "ipython",
    "version": 3
   },
   "file_extension": ".py",
   "mimetype": "text/x-python",
   "name": "python",
   "nbconvert_exporter": "python",
   "pygments_lexer": "ipython3",
   "version": "3.12.7"
  }
 },
 "nbformat": 4,
 "nbformat_minor": 5
}
