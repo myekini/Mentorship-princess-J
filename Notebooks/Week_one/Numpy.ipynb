{
 "cells": [
  {
   "cell_type": "markdown",
   "id": "223dc7db",
   "metadata": {},
   "source": [
    "# Numpy \n",
    "\n",
    "1 - Basically a python library used for fast numerical computation"
   ]
  },
  {
   "cell_type": "code",
   "execution_count": null,
   "id": "edf30a5e",
   "metadata": {},
   "outputs": [],
   "source": [
    "# step 1: importing numpy \n",
    "import numpy as np"
   ]
  },
  {
   "cell_type": "code",
   "execution_count": null,
   "id": "49d8651c",
   "metadata": {},
   "outputs": [
    {
     "name": "stdout",
     "output_type": "stream",
     "text": [
      "[1 2 3 4 5]\n"
     ]
    }
   ],
   "source": [
    "# step 2 : creating a Arrays\n",
    "# 1D-dimension Array\n",
    "\n",
    "\n",
    "arr1 = np.array( [1 , 2, 3 ,4, 5]    )\n",
    "print(arr1)"
   ]
  },
  {
   "cell_type": "markdown",
   "id": "b69345fa",
   "metadata": {},
   "source": [
    "#### 1D (A single column)\n",
    "[1,2,3,4,5]\n",
    "\n",
    "- shape \n",
    "    - (n,) --1 single column without rows\n",
    "\n",
    "\n",
    "### 2D (A table or matrix with rows and columns)\n",
    "- shape\n",
    "    - (m, n)--- number of rows (m)\n",
    "            ---- number of columns (n)\n",
    "    - [1,2,3]\n",
    "    - [4,5,6]\n",
    "\n",
    "### 3D ( a stack of 2D array, a multiple tables)\n",
    "\n",
    "- shape \n",
    " (p, m, n) \n",
    " - p = number of matrices\n",
    " - m = columns per matrix\n",
    " - n - rows per matrix\n",
    "\n",
    "[1,2,3]   \n",
    "[4,5,6]         \n",
    "\n",
    "[7,8,9]     \n",
    "[10,11,12]"
   ]
  },
  {
   "cell_type": "code",
   "execution_count": null,
   "id": "af72a3f1",
   "metadata": {},
   "outputs": [
    {
     "name": "stdout",
     "output_type": "stream",
     "text": [
      "[[1 2 3]\n",
      " [4 5 6]]\n"
     ]
    }
   ],
   "source": [
    "# 2D - dimension Array\n",
    "arr2 = np.array( [\n",
    "    [1,2,3],\n",
    "    [4,5,6]\n",
    "])\n",
    "\n",
    "\n",
    "print(arr2)"
   ]
  },
  {
   "cell_type": "code",
   "execution_count": null,
   "id": "f4317c91",
   "metadata": {},
   "outputs": [
    {
     "name": "stdout",
     "output_type": "stream",
     "text": [
      "[[[ 1  2  3]\n",
      "  [ 4  5  6]]\n",
      "\n",
      " [[ 7  8  9]\n",
      "  [10 11 12]]]\n"
     ]
    }
   ],
   "source": [
    "# 3D - dimension array\n",
    "arr3 = np.array([\n",
    "    [\n",
    "        [1,2,3],\n",
    "        [4,5,6]\n",
    "    ],\n",
    "    [\n",
    "        [7,8,9],\n",
    "        [10,11,12]\n",
    "    ]\n",
    "   \n",
    "])\n",
    "\n",
    "print(arr3)"
   ]
  },
  {
   "cell_type": "code",
   "execution_count": 18,
   "id": "01e879be",
   "metadata": {},
   "outputs": [
    {
     "name": "stdout",
     "output_type": "stream",
     "text": [
      "[[36 98 18]\n",
      " [48 20 74]\n",
      " [98 36 48]]\n"
     ]
    }
   ],
   "source": [
    "# step 3 - Zeros & Ones\n",
    "\n",
    "# Generate set of 0s\n",
    "Zeros = np.zeros(  (2,3)  )\n",
    "\n",
    "# Generate set of 1's\n",
    "Ones = np.ones((2,3))\n",
    "\n",
    "# Gnerate random number within a range and shape\n",
    "rand = np.random.randint(0,100 ,(3,3))\n",
    "print(rand)"
   ]
  },
  {
   "cell_type": "code",
   "execution_count": 19,
   "id": "a9f20099",
   "metadata": {},
   "outputs": [
    {
     "name": "stdout",
     "output_type": "stream",
     "text": [
      "SUM [5 7 9]\n",
      "Products [ 4 10 18]\n",
      "Average 2.0\n"
     ]
    }
   ],
   "source": [
    "# Step 4 Operations within ARRAY\n",
    "\n",
    " #- addition \n",
    " #- multiplications\n",
    " #- mean (Average)\n",
    "\n",
    "a = np.array([1,2,3])\n",
    "b = np.array([4,5,6])\n",
    "\n",
    "\n",
    "\n",
    "sum_ab = a + b\n",
    "product_ab = a * b\n",
    "mean_a = np.mean(a)\n",
    "\n",
    "\n",
    "print(\"SUM\", sum_ab)\n",
    "print(\"Products\", product_ab)\n",
    "print(\"Average\", mean_a)\n"
   ]
  },
  {
   "cell_type": "code",
   "execution_count": null,
   "id": "98a206c1",
   "metadata": {},
   "outputs": [],
   "source": []
  }
 ],
 "metadata": {
  "kernelspec": {
   "display_name": "base",
   "language": "python",
   "name": "python3"
  },
  "language_info": {
   "codemirror_mode": {
    "name": "ipython",
    "version": 3
   },
   "file_extension": ".py",
   "mimetype": "text/x-python",
   "name": "python",
   "nbconvert_exporter": "python",
   "pygments_lexer": "ipython3",
   "version": "3.12.7"
  }
 },
 "nbformat": 4,
 "nbformat_minor": 5
}
